{
  "nbformat": 4,
  "nbformat_minor": 0,
  "metadata": {
    "colab": {
      "provenance": []
    },
    "kernelspec": {
      "name": "python3",
      "display_name": "Python 3"
    },
    "language_info": {
      "name": "python"
    }
  },
  "cells": [
    {
      "cell_type": "code",
      "execution_count": 1,
      "metadata": {
        "id": "yOo8TSUTFypt"
      },
      "outputs": [],
      "source": [
        "import pandas as pd \n",
        "import numpy as np\n",
        "import matplotlib.pyplot as plt\n",
        "import seaborn as sns"
      ]
    },
    {
      "cell_type": "code",
      "source": [
        "from google.colab import drive\n",
        "drive.mount('/content/drive')"
      ],
      "metadata": {
        "colab": {
          "base_uri": "https://localhost:8080/"
        },
        "id": "frO0Y-MqGHN3",
        "outputId": "4c0e7396-11b5-497f-cccf-e30d70f520b5"
      },
      "execution_count": 2,
      "outputs": [
        {
          "output_type": "stream",
          "name": "stdout",
          "text": [
            "Mounted at /content/drive\n"
          ]
        }
      ]
    },
    {
      "cell_type": "code",
      "source": [
        "df = pd.read_csv('/content/drive/MyDrive/Data/Covid19 data/dataset-1.csv')\n",
        "print(df)"
      ],
      "metadata": {
        "colab": {
          "base_uri": "https://localhost:8080/"
        },
        "id": "cXjPDNGqGSRf",
        "outputId": "ed45f03e-2cab-434a-c234-5e8d8b5a5c39"
      },
      "execution_count": 3,
      "outputs": [
        {
          "output_type": "stream",
          "name": "stdout",
          "text": [
            "    Fever  Dry cough  Pulse Rate  SpO2  effected\n",
            "0       1          2         102    94         0\n",
            "1       1          1         100    91         0\n",
            "2       1          2         106    85         0\n",
            "3       1          2         104    90         0\n",
            "4       1          2          73    93         0\n",
            "5       1          1          95    95         0\n",
            "6       1          2         132    92         0\n",
            "7       1          1          85    91         0\n",
            "8       2          2          84    89         0\n",
            "9       2          1          87    89         0\n",
            "10      1          2          96    87         0\n",
            "11      1          2          80    89         0\n",
            "12      1          2          74    97         0\n",
            "13      1          1         113    95         0\n",
            "14      2          2         120    94         0\n",
            "15      1          1          86    96         0\n",
            "16      1          1          79    85         0\n",
            "17      2          2          83    97         0\n",
            "18      1          2          24    97         0\n",
            "19      1          2         102    90         0\n",
            "20      2          2          80    89         0\n",
            "21      1          2         110    80         0\n",
            "22      1          1         136    88         0\n",
            "23      1          2          82    93         0\n",
            "24      2          2         120    92         0\n",
            "25      1          2          93    95         0\n",
            "26      2          1          61    91         0\n",
            "27      2          2          81    96         0\n",
            "28      1          2         100    91         0\n",
            "29      1          2          72    86         0\n",
            "30      1          2          89    96         0\n",
            "31      1          2          89    96         0\n",
            "32      2          1         100    93         0\n",
            "33      1          2          97    93         0\n",
            "34      1          1          78    84         0\n",
            "35      1          1         100    88         0\n",
            "36      2          2         107    91         0\n",
            "37      1          2          97    92         0\n",
            "38      1          2          99    93         0\n",
            "39      2          2          88    90         0\n",
            "40      1          2         113    92         0\n",
            "41      1          1          78    97         0\n",
            "42      2          2          82    92         0\n",
            "43      1          2          98    91         0\n",
            "44      1          2          68    90         0\n",
            "45      1          2         110    94         0\n",
            "46      1          1          91    95         0\n",
            "47      1          2          95    95         0\n",
            "48      2          2          86    96         0\n",
            "49      1          2          89    93         0\n",
            "50      1          1          18    89         1\n",
            "51      1          2          96    96         1\n",
            "52      1          2         102    72         1\n",
            "53      1          1          87    75         1\n",
            "54      1          2          90    91         1\n",
            "55      1          2         100    90         1\n",
            "56      1          1         100    96         1\n",
            "57      1          2          84    93         1\n",
            "58      1          2          98    83         1\n",
            "59      1          1          90    89         1\n"
          ]
        }
      ]
    },
    {
      "cell_type": "code",
      "source": [
        "df.info()"
      ],
      "metadata": {
        "colab": {
          "base_uri": "https://localhost:8080/"
        },
        "id": "JhIwjWkxGXCM",
        "outputId": "52e25660-8441-4a1e-cf92-79d6e208a497"
      },
      "execution_count": 4,
      "outputs": [
        {
          "output_type": "stream",
          "name": "stdout",
          "text": [
            "<class 'pandas.core.frame.DataFrame'>\n",
            "RangeIndex: 60 entries, 0 to 59\n",
            "Data columns (total 5 columns):\n",
            " #   Column      Non-Null Count  Dtype\n",
            "---  ------      --------------  -----\n",
            " 0   Fever       60 non-null     int64\n",
            " 1   Dry cough   60 non-null     int64\n",
            " 2   Pulse Rate  60 non-null     int64\n",
            " 3   SpO2        60 non-null     int64\n",
            " 4   effected    60 non-null     int64\n",
            "dtypes: int64(5)\n",
            "memory usage: 2.5 KB\n"
          ]
        }
      ]
    },
    {
      "cell_type": "code",
      "source": [
        "sns.countplot(x=\"effected\",data=df)\n",
        "plt.show()"
      ],
      "metadata": {
        "colab": {
          "base_uri": "https://localhost:8080/",
          "height": 449
        },
        "id": "aNSeGv1jGetK",
        "outputId": "e95a2d6b-59c9-446b-8afe-19b4bc95864f"
      },
      "execution_count": 5,
      "outputs": [
        {
          "output_type": "display_data",
          "data": {
            "text/plain": [
              "<Figure size 640x480 with 1 Axes>"
            ],
            "image/png": "[encoded data removed]"
          },
          "metadata": {}
        }
      ]
    },
    {
      "cell_type": "code",
      "source": [
        "sns.countplot(x=\"effected\",data=df,hue=\"Fever\")\n",
        "plt.show()"
      ],
      "metadata": {
        "colab": {
          "base_uri": "https://localhost:8080/",
          "height": 449
        },
        "id": "RGqWWdiFGgcF",
        "outputId": "a18014ad-cfd6-42b8-d553-e5c517584eb9"
      },
      "execution_count": 6,
      "outputs": [
        {
          "output_type": "display_data",
          "data": {
            "text/plain": [
              "<Figure size 640x480 with 1 Axes>"
            ],
            "image/png": "[encoded data removed]"
          },
          "metadata": {}
        }
      ]
    },
    {
      "cell_type": "code",
      "source": [
        "sns.countplot(x=\"effected\",data=df,hue=\"Dry cough\")\n",
        "plt.show()"
      ],
      "metadata": {
        "colab": {
          "base_uri": "https://localhost:8080/",
          "height": 449
        },
        "id": "Y1N4ehNKGmW3",
        "outputId": "5dbd82c4-09b7-4d38-ea88-3fb4bac77845"
      },
      "execution_count": 7,
      "outputs": [
        {
          "output_type": "display_data",
          "data": {
            "text/plain": [
              "<Figure size 640x480 with 1 Axes>"
            ],
            "image/png": "[encoded data removed]"
          },
          "metadata": {}
        }
      ]
    },
    {
      "cell_type": "code",
      "source": [
        "sns.catplot(x=\"effected\",y=\"SpO2\",data=df,kind=\"box\",whis=[0,100])\n",
        "plt.show()"
      ],
      "metadata": {
        "colab": {
          "base_uri": "https://localhost:8080/",
          "height": 506
        },
        "id": "sePij-EmGpzR",
        "outputId": "8fbdf2f0-4307-4b98-f516-61a3effc3143"
      },
      "execution_count": 8,
      "outputs": [
        {
          "output_type": "display_data",
          "data": {
            "text/plain": [
              "<Figure size 500x500 with 1 Axes>"
            ],
            "image/png": "[encoded data removed]"
          },
          "metadata": {}
        }
      ]
    },
    {
      "cell_type": "code",
      "source": [
        "sns.catplot(x=\"effected\",y=\"Pulse Rate\",data=df,kind=\"box\",whis=[0,100])\n",
        "plt.show()"
      ],
      "metadata": {
        "colab": {
          "base_uri": "https://localhost:8080/",
          "height": 506
        },
        "id": "32NK65njGuL4",
        "outputId": "5046944a-989b-4a0e-80bb-9f81f6038e2a"
      },
      "execution_count": 9,
      "outputs": [
        {
          "output_type": "display_data",
          "data": {
            "text/plain": [
              "<Figure size 500x500 with 1 Axes>"
            ],
            "image/png": "[encoded data removed]"
          },
          "metadata": {}
        }
      ]
    },
    {
      "cell_type": "code",
      "source": [
        "from sklearn import svm\n",
        "from sklearn.model_selection import train_test_split\n",
        "from sklearn import metrics"
      ],
      "metadata": {
        "id": "PPsxoiCFHYYG"
      },
      "execution_count": 12,
      "outputs": []
    },
    {
      "cell_type": "code",
      "source": [
        "X=df[['Fever','Dry cough','Pulse Rate','SpO2']]\n",
        "y=df['effected']\n",
        "X_train,X_test,y_train,y_test=train_test_split(X,y,test_size=0.4,random_state=45)"
      ],
      "metadata": {
        "id": "x2BqaoxOHPbZ"
      },
      "execution_count": 13,
      "outputs": []
    },
    {
      "cell_type": "code",
      "source": [
        "from sklearn.tree import DecisionTreeClassifier\n",
        "from sklearn.metrics import accuracy_score\n",
        "\n",
        "# Create an instance of the model\n",
        "dtc = DecisionTreeClassifier()\n",
        "\n",
        "# Fit the model on the training data\n",
        "dtc.fit(X_train, y_train)\n",
        "\n",
        "# Predict on the training data\n",
        "y_train_pred = dtc.predict(X_train)\n",
        "\n",
        "# Predict on the test data\n",
        "y_test_pred = dtc.predict(X_test)\n",
        "\n",
        "# Compute accuracy on the training data\n",
        "train_accuracy = accuracy_score(y_train, y_train_pred)\n",
        "\n",
        "# Compute accuracy on the test data\n",
        "test_accuracy = accuracy_score(y_test, y_test_pred)\n",
        "\n",
        "# Print the accuracies\n",
        "print(\"Train Accuracy DecisionsTreeClassifier:\", train_accuracy)\n",
        "print(\"Test Accuracy DecisionsTreeClassifier:\", test_accuracy)"
      ],
      "metadata": {
        "colab": {
          "base_uri": "https://localhost:8080/"
        },
        "id": "prNMcZOpG-LU",
        "outputId": "d4d43584-b243-4b6e-9b7f-847f6420f1b1"
      },
      "execution_count": 14,
      "outputs": [
        {
          "output_type": "stream",
          "name": "stdout",
          "text": [
            "Train Accuracy DecisionsTreeClassifier: 1.0\n",
            "Test Accuracy DecisionsTreeClassifier: 0.875\n"
          ]
        }
      ]
    },
    {
      "cell_type": "code",
      "source": [
        "input_data=(1,2,96,96)\n",
        "input_data_as_numpy_array=np.asarray(input_data)\n",
        "reshape=input_data_as_numpy_array.reshape(1,-1)\n",
        "prediction=dtc.predict(reshape)\n",
        "\n",
        "print(prediction)"
      ],
      "metadata": {
        "colab": {
          "base_uri": "https://localhost:8080/"
        },
        "id": "KRocVWaAJoS4",
        "outputId": "4b7424df-0911-4f21-b2b4-46f219c7e7f7"
      },
      "execution_count": 15,
      "outputs": [
        {
          "output_type": "stream",
          "name": "stdout",
          "text": [
            "[1]\n"
          ]
        },
        {
          "output_type": "stream",
          "name": "stderr",
          "text": [
            "/usr/local/lib/python3.10/dist-packages/sklearn/base.py:439: UserWarning: X does not have valid feature names, but DecisionTreeClassifier was fitted with feature names\n",
            "  warnings.warn(\n"
          ]
        }
      ]
    }
  ]
}